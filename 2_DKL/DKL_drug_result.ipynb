{
 "cells": [
  {
   "cell_type": "code",
   "execution_count": 1,
   "metadata": {},
   "outputs": [],
   "source": [
    "import numpy as np\n",
    "import pandas as pd\n",
    "import math\n",
    "import tqdm\n",
    "import torch\n",
    "import gpytorch\n",
    "from matplotlib import pyplot as plt\n",
    "import urllib.request\n",
    "import os\n",
    "from math import floor\n",
    "from sklearn.metrics import r2_score, mean_squared_error, mean_absolute_error\n",
    "torch.cuda.empty_cache()"
   ]
  },
  {
   "cell_type": "code",
   "execution_count": 2,
   "metadata": {},
   "outputs": [],
   "source": [
    "name = 'margin'\n",
    "group = 'drug_'\n",
    "# group = 'gene_'\n",
    "\n",
    "train_x = torch.load('train_x_'+ group + name)\n",
    "train_y = torch.load('train_y_'+ group + name).squeeze(dim=1)\n",
    "test_x = torch.load('test_x_'+ group + name)\n",
    "test_y = torch.load('test_y_'+ group + name).squeeze(dim=1)\n",
    "\n",
    "if torch.cuda.is_available():\n",
    "    train_x, train_y, test_x, test_y = train_x.cuda(), train_y.cuda(), test_x.cuda(), test_y.cuda()\n",
    "    \n",
    "data_dim = train_x.size(-1)"
   ]
  },
  {
   "cell_type": "code",
   "execution_count": 5,
   "metadata": {},
   "outputs": [
    {
     "data": {
      "text/plain": [
       "tensor([0.7462, 0.5967, 0.4258,  ..., 0.5092, 0.7010, 0.5559], device='cuda:0')"
      ]
     },
     "execution_count": 5,
     "metadata": {},
     "output_type": "execute_result"
    }
   ],
   "source": [
    "train_y"
   ]
  },
  {
   "cell_type": "code",
   "execution_count": 4,
   "metadata": {},
   "outputs": [
    {
     "name": "stderr",
     "output_type": "stream",
     "text": [
      "  0%|          | 0/50 [00:00<?, ?it/s]/common/sghoshstat/ywu39393/DKL/lib/python3.9/site-packages/linear_operator/utils/sparse.py:51: UserWarning: TypedStorage is deprecated. It will be removed in the future and UntypedStorage will be the only storage class. This should only matter to you if you are using storages directly.  To access UntypedStorage directly, use tensor.untyped_storage() instead of tensor.storage()\n",
      "  if nonzero_indices.storage():\n",
      "/common/sghoshstat/ywu39393/DKL/lib/python3.9/site-packages/linear_operator/utils/sparse.py:66: UserWarning: The torch.cuda.*DtypeTensor constructors are no longer recommended. It's best to use methods such as torch.tensor(data, dtype=*, device='cuda') to create tensors. (Triggered internally at ../torch/csrc/tensor/python_tensor.cpp:83.)\n",
      "  res = cls(index_tensor, value_tensor, interp_size)\n",
      "/common/sghoshstat/ywu39393/DKL/lib/python3.9/site-packages/linear_operator/utils/sparse.py:66: UserWarning: torch.sparse.SparseTensor(indices, values, shape, *, device=) is deprecated.  Please use torch.sparse_coo_tensor(indices, values, shape, dtype=, device=). (Triggered internally at ../torch/csrc/utils/tensor_new.cpp:605.)\n",
      "  res = cls(index_tensor, value_tensor, interp_size)\n",
      "100%|██████████| 50/50 [01:55<00:00,  2.31s/it, loss=0.548]\n"
     ]
    },
    {
     "name": "stdout",
     "output_type": "stream",
     "text": [
      "Test MAE: 0.01650272123515606\n"
     ]
    }
   ],
   "source": [
    "class LargeFeatureExtractor(torch.nn.Sequential):\n",
    "    def __init__(self, dropout_rate=0.2):\n",
    "        super(LargeFeatureExtractor, self).__init__()\n",
    "                # First linear layer\n",
    "        self.add_module('linear1', torch.nn.Linear(data_dim, 500))\n",
    "        self.add_module('relu1', torch.nn.ReLU())\n",
    "        self.add_module('norm1', torch.nn.BatchNorm1d(500))  # Normalization layer\n",
    "        self.add_module('drop1', torch.nn.Dropout(dropout_rate))  # Dropout layer\n",
    "\n",
    "        # Second linear layer\n",
    "        self.add_module('linear2', torch.nn.Linear(500, 50))\n",
    "        self.add_module('relu2', torch.nn.ReLU())\n",
    "        self.add_module('norm2', torch.nn.BatchNorm1d(50))  # Normalization layer\n",
    "        self.add_module('drop2', torch.nn.Dropout(dropout_rate))  # Dropout layer\n",
    "\n",
    "        # Final linear layer\n",
    "        self.add_module('linear4', torch.nn.Linear(50, 2))\n",
    "\n",
    "feature_extractor = LargeFeatureExtractor()\n",
    "\n",
    "class GPRegressionModel(gpytorch.models.ExactGP):\n",
    "        def __init__(self, train_x, train_y, likelihood):\n",
    "            super(GPRegressionModel, self).__init__(train_x, train_y, likelihood)\n",
    "            self.mean_module = gpytorch.means.ConstantMean()\n",
    "            self.covar_module = gpytorch.kernels.GridInterpolationKernel(\n",
    "                gpytorch.kernels.ScaleKernel(gpytorch.kernels.RBFKernel()),\n",
    "                num_dims=2, grid_size= 100\n",
    "            )\n",
    "            self.feature_extractor = feature_extractor\n",
    "\n",
    "            # This module will scale the NN features so that they're nice values\n",
    "            self.scale_to_bounds = gpytorch.utils.grid.ScaleToBounds(-1., 1.)\n",
    "\n",
    "        def forward(self, x):\n",
    "            # We're first putting our data through a deep net (feature extractor)\n",
    "            projected_x = self.feature_extractor(x)\n",
    "            projected_x = self.scale_to_bounds(projected_x)  # Make the NN values \"nice\"\n",
    "\n",
    "            mean_x = self.mean_module(projected_x)\n",
    "            covar_x = self.covar_module(projected_x)\n",
    "            return gpytorch.distributions.MultivariateNormal(mean_x, covar_x)\n",
    "\n",
    "likelihood = gpytorch.likelihoods.GaussianLikelihood()\n",
    "model = GPRegressionModel(train_x, train_y, likelihood)\n",
    "if torch.cuda.is_available():\n",
    "    model = model.cuda()\n",
    "    likelihood = likelihood.cuda()\n",
    "\n",
    "\n",
    "training_iterations =  50\n",
    "# Find optimal model hyperparameters\n",
    "model.train()\n",
    "likelihood.train()\n",
    "\n",
    "\n",
    "# Use the adam optimizer\n",
    "optimizer = torch.optim.Adam([\n",
    "    {'params': model.feature_extractor.parameters()},\n",
    "    {'params': model.covar_module.parameters()},\n",
    "    {'params': model.mean_module.parameters()},\n",
    "    {'params': model.likelihood.parameters()},\n",
    "], lr=0.01)\n",
    "\n",
    "# \"Loss\" for GPs - the marginal log likelihood\n",
    "mll = gpytorch.mlls.ExactMarginalLogLikelihood(likelihood, model)\n",
    "#mll = gpytorch.mlls.VariationalELBO(likelihood, model, num_data= 69214)\n",
    "def train():\n",
    "    iterator = tqdm.tqdm(range(training_iterations))\n",
    "    for i in iterator:\n",
    "        # Zero backprop gradients\n",
    "        optimizer.zero_grad()\n",
    "        # Get output from model\n",
    "        output = model(train_x)\n",
    "        # Calc loss and backprop derivatives\n",
    "        loss = -mll(output, train_y)\n",
    "        loss.backward()\n",
    "        iterator.set_postfix(loss=loss.item())\n",
    "        optimizer.step()\n",
    "\n",
    "\n",
    "train()\n",
    "\n",
    "model.eval()\n",
    "likelihood.eval()\n",
    "\n",
    "with torch.no_grad(), gpytorch.settings.use_toeplitz(False), gpytorch.settings.fast_pred_var():\n",
    "    preds = model(test_x)\n",
    "\n",
    "\n",
    "\n",
    "print('Test MAE: {}'.format(torch.mean(torch.abs(preds.mean - test_y))))\n",
    "\n",
    "\n",
    "\n"
   ]
  },
  {
   "cell_type": "code",
   "execution_count": 6,
   "metadata": {},
   "outputs": [
    {
     "name": "stdout",
     "output_type": "stream",
     "text": [
      "The Mean Absolute Error of our Model is 0.016499999910593033\n",
      "The R square of our model is 0.9854%\n",
      "The Mean Absolute Error of our Model is 0.12849999964237213\n"
     ]
    }
   ],
   "source": [
    "\n",
    "predict_value= torch.abs(preds.mean).cpu().numpy()\n",
    "test_y = test_y.cpu().numpy()\n",
    "#MAE\n",
    "score_MAE = mean_absolute_error(predict_value, test_y)\n",
    "print(\"The Mean Absolute Error of our Model is {}\".format(round(score_MAE, 4)))\n",
    "\n",
    "#r^2\n",
    "score = r2_score(predict_value, test_y)\n",
    "print(\"The R square of our model is {}%\".format(round(score, 4)))\n",
    "# RMSE \n",
    "score_rmse = np.sqrt(mean_absolute_error(predict_value, test_y))\n",
    "print(\"The Mean Absolute Error of our Model is {}\".format(round(score_rmse, 4)))"
   ]
  },
  {
   "cell_type": "code",
   "execution_count": 7,
   "metadata": {},
   "outputs": [
    {
     "data": {
      "image/png": "[encoded data removed]",
      "text/plain": [
       "<Figure size 1000x600 with 1 Axes>"
      ]
     },
     "metadata": {},
     "output_type": "display_data"
    }
   ],
   "source": [
    "# print the prediction image\n",
    "\n",
    "plt.figure(figsize=(10, 6))\n",
    "plt.scatter(test_y, predict_value, alpha=0.5, label='Predicted vs Actual')\n",
    "\n",
    "# Line plot for the perfect predictions\n",
    "max_val = max(test_y.max(), predict_value.max())\n",
    "min_val = min(test_y.min(), predict_value.min())\n",
    "plt.plot([min_val, max_val], [min_val, max_val], 'k--', lw=2, label='Ideal Prediction')\n",
    "\n",
    "plt.xlabel('Actual Values')\n",
    "plt.ylabel('Predicted Values')\n",
    "plt.title('Prediction Accuracy')\n",
    "plt.legend()\n",
    "plt.grid(True)"
   ]
  },
  {
   "cell_type": "code",
   "execution_count": 12,
   "metadata": {},
   "outputs": [
    {
     "name": "stdout",
     "output_type": "stream",
     "text": [
      "tensor([0.5457, 0.9679, 0.7383,  ..., 0.6417, 0.4510, 0.3958], device='cuda:0')\n"
     ]
    }
   ],
   "source": [
    "print(preds.mean)"
   ]
  },
  {
   "cell_type": "code",
   "execution_count": 13,
   "metadata": {},
   "outputs": [
    {
     "data": {
      "text/plain": [
       "tensor([1.0000e-06, 1.0000e-06, 1.0000e-06,  ..., 1.0000e-06, 1.0000e-06,\n",
       "        1.0000e-06], device='cuda:0')"
      ]
     },
     "execution_count": 13,
     "metadata": {},
     "output_type": "execute_result"
    }
   ],
   "source": [
    "preds.variance"
   ]
  },
  {
   "cell_type": "code",
   "execution_count": 10,
   "metadata": {},
   "outputs": [
    {
     "name": "stdout",
     "output_type": "stream",
     "text": [
      "tensor([0.0010, 0.0010, 0.0010,  ..., 0.0010, 0.0010, 0.0010])\n"
     ]
    }
   ],
   "source": [
    "print(preds.stddev.cpu())"
   ]
  },
  {
   "cell_type": "code",
   "execution_count": 30,
   "metadata": {},
   "outputs": [],
   "source": [
    "torch.save(preds.mean.cpu(), 'drug_y_mean')"
   ]
  },
  {
   "cell_type": "code",
   "execution_count": 31,
   "metadata": {},
   "outputs": [],
   "source": [
    "torch.save(preds.stddev.cpu(), 'drug_y_std')"
   ]
  }
 ],
 "metadata": {
  "kernelspec": {
   "display_name": "DKL",
   "language": "python",
   "name": "dkl"
  },
  "language_info": {
   "codemirror_mode": {
    "name": "ipython",
    "version": 3
   },
   "file_extension": ".py",
   "mimetype": "text/x-python",
   "name": "python",
   "nbconvert_exporter": "python",
   "pygments_lexer": "ipython3",
   "version": "3.9.13"
  }
 },
 "nbformat": 4,
 "nbformat_minor": 4
}
